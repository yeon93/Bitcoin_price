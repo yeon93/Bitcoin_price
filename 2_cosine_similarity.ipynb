{
 "cells": [
  {
   "cell_type": "code",
   "execution_count": 1,
   "metadata": {},
   "outputs": [],
   "source": [
    "import pyupbit\n",
    "import pandas as pd\n",
    "import matplotlib.pyplot as plt\n",
    "from sklearn.preprocessing import StandardScaler\n",
    "import numpy as np"
   ]
  },
  {
   "cell_type": "code",
   "execution_count": 23,
   "metadata": {},
   "outputs": [
    {
     "data": {
      "image/png": "[encoded data removed]",
      "text/plain": [
       "<Figure size 432x288 with 2 Axes>"
      ]
     },
     "metadata": {
      "needs_background": "light"
     },
     "output_type": "display_data"
    }
   ],
   "source": [
    "btc = pd.read_csv('btc_30min.csv')\n",
    "\n",
    "#종가, 거래량 시각화해보기\n",
    "close = btc['close']\n",
    "volume = btc['volume']\n",
    "\n",
    "#100캔들 단위 시계열 차트(기준이 될 패턴)\n",
    "fig, ax = plt.subplots(1,2)\n",
    "ax[0].plot(close[:100])\n",
    "ax[1].plot(volume[:100])\n",
    "ax[0].set_title('Close pattern')\n",
    "ax[1].set_title('Volume pattern');"
   ]
  },
  {
   "cell_type": "code",
   "execution_count": 3,
   "metadata": {},
   "outputs": [
    {
     "data": {
      "text/html": [
       "<div>\n",
       "<style scoped>\n",
       "    .dataframe tbody tr th:only-of-type {\n",
       "        vertical-align: middle;\n",
       "    }\n",
       "\n",
       "    .dataframe tbody tr th {\n",
       "        vertical-align: top;\n",
       "    }\n",
       "\n",
       "    .dataframe thead th {\n",
       "        text-align: right;\n",
       "    }\n",
       "</style>\n",
       "<table border=\"1\" class=\"dataframe\">\n",
       "  <thead>\n",
       "    <tr style=\"text-align: right;\">\n",
       "      <th></th>\n",
       "      <th>scaled_close</th>\n",
       "      <th>scaled_volume</th>\n",
       "    </tr>\n",
       "  </thead>\n",
       "  <tbody>\n",
       "    <tr>\n",
       "      <th>0</th>\n",
       "      <td>-2.207432</td>\n",
       "      <td>-1.981868</td>\n",
       "    </tr>\n",
       "    <tr>\n",
       "      <th>1</th>\n",
       "      <td>-2.076252</td>\n",
       "      <td>-2.301932</td>\n",
       "    </tr>\n",
       "    <tr>\n",
       "      <th>2</th>\n",
       "      <td>-1.928675</td>\n",
       "      <td>-1.746032</td>\n",
       "    </tr>\n",
       "    <tr>\n",
       "      <th>3</th>\n",
       "      <td>-1.485942</td>\n",
       "      <td>-1.746032</td>\n",
       "    </tr>\n",
       "    <tr>\n",
       "      <th>4</th>\n",
       "      <td>-1.846687</td>\n",
       "      <td>-2.116632</td>\n",
       "    </tr>\n",
       "    <tr>\n",
       "      <th>...</th>\n",
       "      <td>...</td>\n",
       "      <td>...</td>\n",
       "    </tr>\n",
       "    <tr>\n",
       "      <th>95</th>\n",
       "      <td>1.629584</td>\n",
       "      <td>1.623060</td>\n",
       "    </tr>\n",
       "    <tr>\n",
       "      <th>96</th>\n",
       "      <td>1.465609</td>\n",
       "      <td>1.302996</td>\n",
       "    </tr>\n",
       "    <tr>\n",
       "      <th>97</th>\n",
       "      <td>1.465609</td>\n",
       "      <td>1.471451</td>\n",
       "    </tr>\n",
       "    <tr>\n",
       "      <th>98</th>\n",
       "      <td>1.662379</td>\n",
       "      <td>1.707287</td>\n",
       "    </tr>\n",
       "    <tr>\n",
       "      <th>99</th>\n",
       "      <td>1.809957</td>\n",
       "      <td>1.740978</td>\n",
       "    </tr>\n",
       "  </tbody>\n",
       "</table>\n",
       "<p>100 rows × 2 columns</p>\n",
       "</div>"
      ],
      "text/plain": [
       "    scaled_close  scaled_volume\n",
       "0      -2.207432      -1.981868\n",
       "1      -2.076252      -2.301932\n",
       "2      -1.928675      -1.746032\n",
       "3      -1.485942      -1.746032\n",
       "4      -1.846687      -2.116632\n",
       "..           ...            ...\n",
       "95      1.629584       1.623060\n",
       "96      1.465609       1.302996\n",
       "97      1.465609       1.471451\n",
       "98      1.662379       1.707287\n",
       "99      1.809957       1.740978\n",
       "\n",
       "[100 rows x 2 columns]"
      ]
     },
     "execution_count": 3,
     "metadata": {},
     "output_type": "execute_result"
    }
   ],
   "source": [
    "#정규화\n",
    "base = btc.iloc[:100, [3,4]]\n",
    "\n",
    "scaler = StandardScaler()\n",
    "\n",
    "scaled_base = scaler.fit_transform(base)\n",
    "scaled_base = pd.DataFrame(scaled_base, columns=['scaled_close', 'scaled_volume'])\n",
    "\n",
    "scaled_base"
   ]
  },
  {
   "cell_type": "code",
   "execution_count": 4,
   "metadata": {},
   "outputs": [
    {
     "data": {
      "text/plain": [
       "82810"
      ]
     },
     "execution_count": 4,
     "metadata": {},
     "output_type": "execute_result"
    }
   ],
   "source": [
    "#몇 개의 캔들을 예측을 위한 데이터로 사용할지 \n",
    "window_size = len(scaled_base)    #100\n",
    "\n",
    "#예측 기간 : (미래)몇 개의 캔들을 예측할지\n",
    "next = 10\n",
    "\n",
    "#window가 슬라이딩 할 횟수\n",
    "moving_count = len(close) - window_size - (next + 1)\n",
    "moving_count"
   ]
  },
  {
   "cell_type": "code",
   "execution_count": 5,
   "metadata": {},
   "outputs": [],
   "source": [
    "#1에 가까울수록 유사도가 높음\n",
    "def cosine_similarity(x, y):\n",
    "    return np.dot(x, y) / (np.sqrt(np.dot(x, x)) * np.sqrt(np.dot(y, y)))"
   ]
  },
  {
   "cell_type": "code",
   "execution_count": 6,
   "metadata": {},
   "outputs": [
    {
     "data": {
      "text/plain": [
       "0        1.000000\n",
       "1        0.965519\n",
       "2        0.938622\n",
       "79777    0.937395\n",
       "79776    0.935317\n",
       "78726    0.935019\n",
       "25152    0.934641\n",
       "25153    0.933460\n",
       "25151    0.932950\n",
       "78727    0.931128\n",
       "dtype: float64"
      ]
     },
     "execution_count": 6,
     "metadata": {},
     "output_type": "execute_result"
    }
   ],
   "source": [
    "#유사도를 저장하는 list\n",
    "sim_list = []\n",
    "\n",
    "for i in range(moving_count):\n",
    "    target = btc.iloc[i:i+window_size, [3,4]]   #(100,2)\n",
    "    \n",
    "    #정규화\n",
    "    scaled_target = scaler.fit_transform(target)\n",
    "    scaled_target = pd.DataFrame(scaled_target, columns=['scaled_close', 'scaled_volume'])\n",
    "    \n",
    "    #종가, 거래량의 코사인 유사도 평균을 list에 저장\n",
    "    cos_sim_close = cosine_similarity(scaled_base['scaled_close'], scaled_target['scaled_close'])\n",
    "    cos_sim_volume = cosine_similarity(scaled_base['scaled_volume'], scaled_target['scaled_volume'])\n",
    "    \n",
    "    cos_sim = (cos_sim_close + cos_sim_volume) / 2\n",
    "    \n",
    "    sim_list.append(cos_sim)\n",
    "    \n",
    "#유사도 순서대로 index 확인\n",
    "pd.Series(sim_list).sort_values(ascending=False).head(10)"
   ]
  },
  {
   "cell_type": "code",
   "execution_count": 9,
   "metadata": {},
   "outputs": [
    {
     "data": {
      "image/png": "[encoded data removed]",
      "text/plain": [
       "<Figure size 720x432 with 1 Axes>"
      ]
     },
     "metadata": {
      "needs_background": "light"
     },
     "output_type": "display_data"
    }
   ],
   "source": [
    "# 특정 시점과 가장 유사도가 높은 과거데이터 확인해보기\n",
    "idx = 10000\n",
    "\n",
    "top_ = btc.iloc[idx:(idx + window_size + next), [3,4]]\n",
    "top_norm = scaler.fit_transform(top_)\n",
    "top_norm = pd.DataFrame(top_norm, columns=['scaled_close', 'scaled_volume'])\n",
    "\n",
    "plt.figure(figsize=(10,6))\n",
    "plt.plot(scaled_base['scaled_close'].values, label='base')\n",
    "plt.plot(top_norm['scaled_close'].values, label='prediction')\n",
    "plt.axvline(x=len(scaled_base)-1, c='r', linestyle='--')  #현재/미래 경계선\n",
    "plt.axvspan(len(scaled_base.values)-1, len(top_norm.values)-1, facecolor='y', alpha=0.3)\n",
    "plt.legend();"
   ]
  },
  {
   "cell_type": "code",
   "execution_count": 13,
   "metadata": {},
   "outputs": [],
   "source": [
    "#클래스로 만들어보기\n",
    "class PatternFinder():\n",
    "    def __init__(self, period=14):\n",
    "        self.period = period\n",
    "        \n",
    "    def set_coin(self, coin:str, interval:str):\n",
    "        self.coin = coin\n",
    "        self.data = pyupbit.get_ohlcv(coin, count=2*60*24*365*5, interval=interval)\n",
    "        self.close = self.data['close']\n",
    "        self.volume = self.data['volume']\n",
    "        return self.data\n",
    "    \n",
    "    def search(self, start:int, end:int, threshold=0.85):\n",
    "        base = self.close.iloc[start:end, [3,4]]\n",
    "        self.base_norm = (base - base.min()) / (base.max() - base.min())\n",
    "        self.base = base\n",
    "        \n",
    "        display(base)\n",
    "        \n",
    "        window_size = len(base)\n",
    "        moving_count = len(self.data) - window_size - (self.period + 1)    \n",
    "        cos_sim = self.__cosine_sims(moving_count, window_size)\n",
    "        \n",
    "        self.window_size = window_size\n",
    "        cos_sim = cos_sim[cos_sim > threshold]\n",
    "        return cos_sim\n",
    "        \n",
    "    def __cosine_sims(self, moving_count, window_size):\n",
    "        def cosine_similarity(x,y):\n",
    "            return np.dot(x,y) / (np.sqrt(np.dot(x,x)) * (np.sqrt(np.dot(y,y))))\n",
    "        \n",
    "        sim_list = []\n",
    "        \n",
    "        for i in range(moving_count):\n",
    "            target = self.close[i:(i + window_size)]\n",
    "            \n",
    "            target_norm = (target - target.min()) / (target.max() - target.min())\n",
    "            \n",
    "            cos_sim = cosine_similarity(self.base_norm, target_norm)\n",
    "            \n",
    "            sim_list.append(cos_sim)\n",
    "        return pd.Series(sim_list).sort_values(ascending=False)\n",
    "            \n",
    "    def plot_pattern(self, idx, period=14):\n",
    "        if period != self.period:\n",
    "            self.period = period\n",
    "            \n",
    "        top = self.close[idx:(idx + self.window_size + period)]\n",
    "        top_norm = (top - top.min()) / (top.max() - top.min())\n",
    "        \n",
    "        plt.plot(self.base_norm.values, label = 'base')\n",
    "        plt.plot(top_norm.values, label='prediction')\n",
    "        plt.axvline(x=len(self.base_norm)-1, c='r', linestyle='--')\n",
    "        plt.axvspan(len(self.base_norm.values)-1, len(top_norm.values)-1,\n",
    "                    facecolor='y', alpha=0.3)\n",
    "        plt.legend();\n",
    "        \n",
    "        pred = self.change[(idx + self.window_size):(idx + self.window_size + period)]\n",
    "        display(pred)\n",
    "        print(f'pred : {pred.mean() * 100}%')\n",
    "        \n",
    "    def stat_prediction(self, result, period=14):\n",
    "        idx_list = list(result.kes())\n",
    "        mean_list = []\n",
    "        for i in idx_list:\n",
    "            pred = self.change[(idx + self.window_size):(idx + self.window_size + period)]\n",
    "            mean_list.append(pred.mean())\n",
    "        return np.array(mean_list)"
   ]
  },
  {
   "cell_type": "code",
   "execution_count": 24,
   "metadata": {},
   "outputs": [],
   "source": [
    "pf = PatternFinder()\n",
    "\n",
    "#pf.set_coin('BTC/KRW', 'minute30')\n",
    "\n",
    "#pf.search('2022-01-01', '2022-01-09')\n",
    "\n",
    "#pf.plot_pattern(0)"
   ]
  }
 ],
 "metadata": {
  "interpreter": {
   "hash": "171d6fcbb334a498baa07993cf53000377a12c2a1c06407679c7bb0baba87253"
  },
  "kernelspec": {
   "display_name": "Python 3.8.13 ('bitcoin')",
   "language": "python",
   "name": "python3"
  },
  "language_info": {
   "codemirror_mode": {
    "name": "ipython",
    "version": 3
   },
   "file_extension": ".py",
   "mimetype": "text/x-python",
   "name": "python",
   "nbconvert_exporter": "python",
   "pygments_lexer": "ipython3",
   "version": "3.8.13"
  },
  "orig_nbformat": 4
 },
 "nbformat": 4,
 "nbformat_minor": 2
}
